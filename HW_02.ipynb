{
 "cells": [
  {
   "cell_type": "code",
   "execution_count": 20,
   "metadata": {},
   "outputs": [],
   "source": [
    "# Author: Cindy Tai\n",
    "# Date: 20200129\n",
    "# CS301-006, Professor Watson\n",
    "# HW02 Solution\n",
    "# Reviewing statistic concepts as well as using python modules to explore different methods of quantile calculation\n",
    "# https://github.com/htai327/quantile_calculation\n",
    "# https://github.com/htai327/quantile_calculation/tree/8309fe140768a975071d1f9cb72ed101ec73493a\n",
    "# Feb 6 2010\n",
    "# master"
   ]
  },
  {
   "cell_type": "markdown",
   "metadata": {},
   "source": [
    "## HW 02 - Base Code to Start"
   ]
  },
  {
   "cell_type": "markdown",
   "metadata": {},
   "source": [
    "#### Use these two samples to test your functions"
   ]
  },
  {
   "cell_type": "code",
   "execution_count": 21,
   "metadata": {},
   "outputs": [],
   "source": [
    "grades = [0, 0, 14, 35, 63, 66, 75, 77, 78, 80, 81, 81, 87, 89, 90, 91, 100]"
   ]
  },
  {
   "cell_type": "code",
   "execution_count": 22,
   "metadata": {},
   "outputs": [],
   "source": [
    "times = [5, 10, 10, 15, 15, 15, 15, 20, 20, 20, 25, 30, 30, 40, 40, 45, 60, 60, 65, 89]"
   ]
  },
  {
   "cell_type": "markdown",
   "metadata": {},
   "source": [
    "### Please answer Problem 2 below:"
   ]
  },
  {
   "cell_type": "markdown",
   "metadata": {},
   "source": [
    "Calculating quantiles using numpy module"
   ]
  },
  {
   "cell_type": "code",
   "execution_count": 23,
   "metadata": {},
   "outputs": [],
   "source": [
    "import numpy as np\n",
    "def q_summary_V1(numbers):\n",
    "    '''\n",
    "    Finds min, max, and quartiles given list of numbers\n",
    "    \n",
    "    input\n",
    "    _____\n",
    "    numbers (list) - the list of numbers\n",
    "    \n",
    "    output\n",
    "    ______\n",
    "    stats (list) - the list of statistics like min, max, and quartiles.\n",
    "    '''\n",
    "    stats = {}\n",
    "    q1 = np.quantile(numbers, .25)\n",
    "    q2 = np.quantile(numbers, .5)\n",
    "    q3 = np.quantile(numbers, .75)\n",
    "    \n",
    "    IQR = q3 - q1\n",
    "    lowerb = q1 - 1.5 * IQR\n",
    "    upperb = q3 + 1.5 * IQR\n",
    "    \n",
    "    nOutlier = np.array(numbers)\n",
    "    outlier = np.array(numbers)\n",
    "    outlier = outlier[(outlier < lowerb) | (outlier > upperb)]\n",
    "    nOutlier = nOutlier[(nOutlier > lowerb) & (nOutlier < upperb)]\n",
    "    stats['min'] = min(nOutlier)\n",
    "    stats['q1'] = q1\n",
    "    stats['q2'] = q2\n",
    "    stats['q3'] = q3\n",
    "    stats['max'] = max(nOutlier)\n",
    "    \n",
    "    print('The following are outliers: ', list(outlier))\n",
    "    return stats"
   ]
  },
  {
   "cell_type": "code",
   "execution_count": 24,
   "metadata": {},
   "outputs": [
    {
     "name": "stdout",
     "output_type": "stream",
     "text": [
      "The following are outliers:  [0, 0, 14]\n",
      "{'min': 35, 'q1': 63.0, 'q2': 78.0, 'q3': 87.0, 'max': 100}\n"
     ]
    }
   ],
   "source": [
    "grades = sorted([0, 0, 14, 35, 91, 100, 81, 77, 75, 66, 78, 80, 81, 63, 87, 90, 89])\n",
    "print(q_summary_V1(grades))"
   ]
  },
  {
   "cell_type": "code",
   "execution_count": 25,
   "metadata": {},
   "outputs": [
    {
     "name": "stdout",
     "output_type": "stream",
     "text": [
      "The following are outliers:  [89]\n",
      "{'min': 5, 'q1': 15.0, 'q2': 22.5, 'q3': 41.25, 'max': 65}\n"
     ]
    }
   ],
   "source": [
    "times = [5, 10, 10, 15, 15, 15, 15, 20, 20, 20, 25, 30 , 30, 40, 40, 45, 60, 60, 65, 89]\n",
    "print(q_summary_V1(times))"
   ]
  },
  {
   "cell_type": "markdown",
   "metadata": {},
   "source": [
    "### Please answer Problem 3 below:"
   ]
  },
  {
   "cell_type": "markdown",
   "metadata": {},
   "source": [
    "Using the method went over in class to calculate the quantiles"
   ]
  },
  {
   "cell_type": "code",
   "execution_count": 30,
   "metadata": {},
   "outputs": [],
   "source": [
    "import numpy as np\n",
    "def get_quantile_indexes(n, p):\n",
    "    '''\n",
    "    Calculate index values as input for interpolation\n",
    "    \n",
    "    input\n",
    "    _____\n",
    "    n (int) - the length of the list of numbers\n",
    "    p (float) - the percentage corresponding to the quantile (ex:0.25)\n",
    "    \n",
    "    output\n",
    "    ______\n",
    "    l, i, u (float) - the corresponding x1, x, x1 values as calculated via class\n",
    "    '''\n",
    "    i = p*(n+1) - 1\n",
    "    l = np.floor(i)\n",
    "    u = np.ceil(i)\n",
    "    return l,i,u\n",
    "\n",
    "\n",
    "def get_quantile(nums, q):\n",
    "    '''\n",
    "    Use the in-class method of interpolation to calculate the quantile\n",
    "    \n",
    "    input\n",
    "    _____\n",
    "    nums (list) - the list of numbers\n",
    "    q (float) - the quantile desired\n",
    "    \n",
    "    output\n",
    "    ______\n",
    "    y (int/float) - this is the value in nums at the given quantile q\n",
    "    '''\n",
    "    x1, x, x2 = get_quantile_indexes(len(nums), q)\n",
    "    if np.floor(x) == x1 and np.ceil(x) == x1:\n",
    "        x = int(x)\n",
    "        y = nums[x]\n",
    "        # print('x = {}, y = {}'.format(x, y))\n",
    "        return y\n",
    "        \n",
    "    # print('x1, x, x2 = {}, {}, {}'.format(x1, x, x2))\n",
    "    y1, y2 = nums[int(x1)], nums[int(x2)]\n",
    "    # print('y1, y2 = {}, {}'.format(y1, y2))\n",
    "    y = (x - x1) * (y1-y2) / (x1 - x2) + y1\n",
    "    # print('y =', y)\n",
    "    return y\n",
    "\n",
    "def q_summary_V2(numbers):\n",
    "    '''\n",
    "    Finds min, max, and quartiles given list of numbers\n",
    "    \n",
    "    input\n",
    "    _____\n",
    "    numbers (list) - the list of numbers\n",
    "    \n",
    "    output\n",
    "    ______\n",
    "    stats (list) - the list of statistics like min, max, and quartiles.\n",
    "    '''\n",
    "    stats = {}\n",
    "    q1 = get_quantile(numbers, 0.25)\n",
    "    q2 = get_quantile(numbers, 0.5)\n",
    "    q3 = get_quantile(numbers, 0.75)\n",
    "    \n",
    "    IQR = q3 - q1\n",
    "    lowerb = q1 - 1.5 * IQR\n",
    "    upperb = q3 + 1.5 * IQR\n",
    "    \n",
    "    nOutlier = np.array(numbers)\n",
    "    outlier = np.array(numbers)\n",
    "    outlier = outlier[(outlier < lowerb) | (outlier > upperb)]\n",
    "    nOutlier = nOutlier[(nOutlier > lowerb) & (nOutlier < upperb)]\n",
    "\n",
    "    stats['min'] = min(nOutlier)\n",
    "    stats['q1'] = q1\n",
    "    stats['q2'] = q2\n",
    "    stats['q3'] = q3\n",
    "    stats['max'] = max(nOutlier)\n",
    "    \n",
    "    if(len(outlier) > 0):\n",
    "        print('The following are outliers: ', list(outlier))\n",
    "    return stats"
   ]
  },
  {
   "cell_type": "code",
   "execution_count": 31,
   "metadata": {},
   "outputs": [
    {
     "name": "stdout",
     "output_type": "stream",
     "text": [
      "{'min': 0, 'q1': 49.0, 'q2': 78, 'q3': 88.0, 'max': 100}\n"
     ]
    }
   ],
   "source": [
    "grades = sorted([0, 0, 14, 35, 91, 100, 81, 77, 75, 66, 78, 80, 81, 63, 87, 90, 89])\n",
    "print(q_summary_V2(grades))"
   ]
  },
  {
   "cell_type": "code",
   "execution_count": 32,
   "metadata": {},
   "outputs": [
    {
     "name": "stdout",
     "output_type": "stream",
     "text": [
      "The following are outliers:  [89]\n",
      "{'min': 5, 'q1': 15.0, 'q2': 22.5, 'q3': 43.75, 'max': 65}\n"
     ]
    }
   ],
   "source": [
    "times = [5, 10, 10, 15, 15, 15, 15, 20, 20, 20, 25, 30 , 30, 40, 40, 45, 60, 60, 65, 89]\n",
    "print(q_summary_V2(times))"
   ]
  },
  {
   "cell_type": "code",
   "execution_count": null,
   "metadata": {},
   "outputs": [],
   "source": []
  }
 ],
 "metadata": {
  "kernelspec": {
   "display_name": "Python 3",
   "language": "python",
   "name": "python3"
  },
  "language_info": {
   "codemirror_mode": {
    "name": "ipython",
    "version": 3
   },
   "file_extension": ".py",
   "mimetype": "text/x-python",
   "name": "python",
   "nbconvert_exporter": "python",
   "pygments_lexer": "ipython3",
   "version": "3.7.4"
  }
 },
 "nbformat": 4,
 "nbformat_minor": 2
}
